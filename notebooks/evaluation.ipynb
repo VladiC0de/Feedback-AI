{
 "cells": [
  {
   "cell_type": "code",
   "execution_count": 7,
   "id": "41dd3cc6",
   "metadata": {},
   "outputs": [
    {
     "name": "stdout",
     "output_type": "stream",
     "text": [
      "Bibliotheken importiert, Seed gesetzt.\n"
     ]
    }
   ],
   "source": [
    "# Zelle 1: Imports und Random-Seeds\n",
    "import random\n",
    "import numpy as np\n",
    "import pandas as pd\n",
    "\n",
    "from sklearn.model_selection import train_test_split\n",
    "from sklearn.metrics import accuracy_score, precision_recall_fscore_support\n",
    "\n",
    "# Zufalls-Seed setzen (Reproduzierbarkeit)\n",
    "SEED = 42\n",
    "random.seed(SEED)\n",
    "np.random.seed(SEED)\n",
    "\n",
    "print(\"Bibliotheken importiert, Seed gesetzt.\")"
   ]
  },
  {
   "cell_type": "code",
   "execution_count": 8,
   "id": "df6c6deb",
   "metadata": {},
   "outputs": [
    {
     "name": "stdout",
     "output_type": "stream",
     "text": [
      "Erste 5 Zeilen:\n"
     ]
    },
    {
     "data": {
      "text/html": [
       "<div>\n",
       "<style scoped>\n",
       "    .dataframe tbody tr th:only-of-type {\n",
       "        vertical-align: middle;\n",
       "    }\n",
       "\n",
       "    .dataframe tbody tr th {\n",
       "        vertical-align: top;\n",
       "    }\n",
       "\n",
       "    .dataframe thead th {\n",
       "        text-align: right;\n",
       "    }\n",
       "</style>\n",
       "<table border=\"1\" class=\"dataframe\">\n",
       "  <thead>\n",
       "    <tr style=\"text-align: right;\">\n",
       "      <th></th>\n",
       "      <th>text</th>\n",
       "      <th>label</th>\n",
       "    </tr>\n",
       "  </thead>\n",
       "  <tbody>\n",
       "    <tr>\n",
       "      <th>0</th>\n",
       "      <td>Das Produkt war schlecht nach dem neuesten Upd...</td>\n",
       "      <td>1</td>\n",
       "    </tr>\n",
       "    <tr>\n",
       "      <th>1</th>\n",
       "      <td>Der Service war mangelhaft im Vergleich zu mei...</td>\n",
       "      <td>1</td>\n",
       "    </tr>\n",
       "    <tr>\n",
       "      <th>2</th>\n",
       "      <td>Das Produkt war unakzeptabel .</td>\n",
       "      <td>1</td>\n",
       "    </tr>\n",
       "    <tr>\n",
       "      <th>3</th>\n",
       "      <td>Die Webseite war unerträglich .</td>\n",
       "      <td>1</td>\n",
       "    </tr>\n",
       "    <tr>\n",
       "      <th>4</th>\n",
       "      <td>Das Produkt war schlecht im Vergleich zu meine...</td>\n",
       "      <td>1</td>\n",
       "    </tr>\n",
       "  </tbody>\n",
       "</table>\n",
       "</div>"
      ],
      "text/plain": [
       "                                                text  label\n",
       "0  Das Produkt war schlecht nach dem neuesten Upd...      1\n",
       "1  Der Service war mangelhaft im Vergleich zu mei...      1\n",
       "2                     Das Produkt war unakzeptabel .      1\n",
       "3                    Die Webseite war unerträglich .      1\n",
       "4  Das Produkt war schlecht im Vergleich zu meine...      1"
      ]
     },
     "metadata": {},
     "output_type": "display_data"
    },
    {
     "name": "stdout",
     "output_type": "stream",
     "text": [
      "\n",
      "Anzahl Zeilen insgesamt: 300\n",
      "Verteilung der Labels:\n"
     ]
    },
    {
     "data": {
      "text/plain": [
       "label\n",
       "1    100\n",
       "3    100\n",
       "5    100\n",
       "Name: count, dtype: int64"
      ]
     },
     "metadata": {},
     "output_type": "display_data"
    }
   ],
   "source": [
    "# Zelle 2: Daten einlesen\n",
    "df = pd.read_csv(\"../data/customer_reviews_labeled.csv\")  # Pfad ggf. anpassen\n",
    "\n",
    "# Erster Blick auf die Daten\n",
    "print(\"Erste 5 Zeilen:\")\n",
    "display(df.head())\n",
    "\n",
    "print(\"\\nAnzahl Zeilen insgesamt:\", len(df))\n",
    "print(\"Verteilung der Labels:\")\n",
    "display(df[\"label\"].value_counts())"
   ]
  },
  {
   "cell_type": "code",
   "execution_count": 9,
   "id": "6b80ff83",
   "metadata": {},
   "outputs": [
    {
     "name": "stdout",
     "output_type": "stream",
     "text": [
      "Anzahl nach Split:\n",
      "Train: 209\n",
      "Val:   46\n",
      "Test:  45\n"
     ]
    }
   ],
   "source": [
    "# Zelle 3: Daten splitten\n",
    "train_val_df, test_df = train_test_split(\n",
    "    df,\n",
    "    test_size=0.15,\n",
    "    stratify=df[\"label\"],\n",
    "    random_state=SEED\n",
    ")\n",
    "train_df, val_df = train_test_split(\n",
    "    train_val_df,\n",
    "    test_size=0.1765,\n",
    "    stratify=train_val_df[\"label\"],\n",
    "    random_state=SEED\n",
    ")\n",
    "\n",
    "print(\"Anzahl nach Split:\")\n",
    "print(\"Train:\", len(train_df))\n",
    "print(\"Val:  \", len(val_df))\n",
    "print(\"Test: \", len(test_df))"
   ]
  },
  {
   "cell_type": "code",
   "execution_count": 10,
   "id": "130299ea",
   "metadata": {},
   "outputs": [
    {
     "name": "stdout",
     "output_type": "stream",
     "text": [
      "### Dummy-Evaluation ###\n",
      "Accuracy:  0.33\n",
      "Precision: 0.11\n",
      "Recall:    0.33\n",
      "F1-Score:  0.17\n"
     ]
    }
   ],
   "source": [
    "# Zelle 4: Dummy-Evaluation auf dem Test-Set\n",
    "y_true = test_df[\"label\"].values\n",
    "y_pred = [1] * len(test_df)  # Dummy-Vorhersage: immer Klasse 1\n",
    "\n",
    "accuracy = accuracy_score(y_true, y_pred)\n",
    "precision, recall, f1, _ = precision_recall_fscore_support(\n",
    "    y_true, y_pred, average=\"weighted\", zero_division=0\n",
    ")\n",
    "\n",
    "print(\"### Dummy-Evaluation ###\")\n",
    "print(f\"Accuracy:  {accuracy:.2f}\")\n",
    "print(f\"Precision: {precision:.2f}\")\n",
    "print(f\"Recall:    {recall:.2f}\")\n",
    "print(f\"F1-Score:  {f1:.2f}\")"
   ]
  },
  {
   "cell_type": "code",
   "execution_count": 11,
   "id": "ecb868e4",
   "metadata": {},
   "outputs": [],
   "source": [
    "import torch\n",
    "from torch.utils.data import Dataset, DataLoader\n",
    "from transformers import BertTokenizerFast, BertForSequenceClassification\n",
    "\n",
    "MODEL_NAME = \"nlptown/bert-base-multilingual-uncased-sentiment\"\n",
    "\n",
    "tokenizer = BertTokenizerFast.from_pretrained(MODEL_NAME)\n",
    "model = BertForSequenceClassification.from_pretrained(MODEL_NAME)\n",
    "\n",
    "device = torch.device(\"cuda\" if torch.cuda.is_available() else \"cpu\")\n",
    "model.to(device)\n",
    "model.eval()\n",
    "\n",
    "class FeedbackDataset(Dataset):\n",
    "    def __init__(self, texts, labels, tokenizer, max_len=128):\n",
    "        self.texts = texts.tolist()\n",
    "        self.labels = labels.tolist()\n",
    "        self.tokenizer = tokenizer\n",
    "        self.max_len = max_len\n",
    "\n",
    "    def __len__(self):\n",
    "        return len(self.texts)\n",
    "\n",
    "    def __getitem__(self, idx):\n",
    "        text = self.texts[idx]\n",
    "        label = self.labels[idx]\n",
    "        encoding = self.tokenizer(\n",
    "            text,\n",
    "            padding=\"max_length\",\n",
    "            truncation=True,\n",
    "            max_length=self.max_len,\n",
    "            return_tensors=\"pt\"\n",
    "        )\n",
    "        return {\n",
    "            \"input_ids\": encoding[\"input_ids\"].squeeze(),\n",
    "            \"attention_mask\": encoding[\"attention_mask\"].squeeze(),\n",
    "            \"label\": torch.tensor(label, dtype=torch.long)\n",
    "        }\n",
    "\n",
    "val_dataset = FeedbackDataset(val_df[\"text\"], val_df[\"label\"], tokenizer)\n",
    "test_dataset = FeedbackDataset(test_df[\"text\"], test_df[\"label\"], tokenizer)\n",
    "\n",
    "val_loader = DataLoader(val_dataset, batch_size=16, shuffle=False)\n",
    "test_loader = DataLoader(test_dataset, batch_size=16, shuffle=False)\n"
   ]
  },
  {
   "cell_type": "code",
   "execution_count": 12,
   "id": "c6d50b3d",
   "metadata": {},
   "outputs": [
    {
     "name": "stdout",
     "output_type": "stream",
     "text": [
      "📊 VALIDATION\n",
      "Accuracy:  0.20 | Precision: 0.65 | Recall: 0.20 | F1: 0.30\n",
      "              precision    recall  f1-score   support\n",
      "\n",
      "           0       0.00      0.00      0.00         0\n",
      "           1       1.00      0.33      0.50        15\n",
      "           2       0.00      0.00      0.00         0\n",
      "           3       1.00      0.27      0.42        15\n",
      "           4       0.00      0.00      0.00         0\n",
      "           5       0.00      0.00      0.00        16\n",
      "\n",
      "    accuracy                           0.20        46\n",
      "   macro avg       0.33      0.10      0.15        46\n",
      "weighted avg       0.65      0.20      0.30        46\n",
      "\n",
      "\n",
      "📊 TEST\n",
      "Accuracy:  0.13 | Precision: 0.67 | Recall: 0.13 | F1: 0.22\n",
      "              precision    recall  f1-score   support\n",
      "\n",
      "           0       0.00      0.00      0.00         0\n",
      "           1       1.00      0.13      0.24        15\n",
      "           2       0.00      0.00      0.00         0\n",
      "           3       1.00      0.27      0.42        15\n",
      "           4       0.00      0.00      0.00         0\n",
      "           5       0.00      0.00      0.00        15\n",
      "\n",
      "    accuracy                           0.13        45\n",
      "   macro avg       0.33      0.07      0.11        45\n",
      "weighted avg       0.67      0.13      0.22        45\n",
      "\n"
     ]
    }
   ],
   "source": [
    "from sklearn.metrics import accuracy_score, precision_recall_fscore_support, classification_report\n",
    "\n",
    "def evaluate(model, data_loader):\n",
    "    model.eval()\n",
    "    all_preds = []\n",
    "    all_labels = []\n",
    "\n",
    "    with torch.no_grad():\n",
    "        for batch in data_loader:\n",
    "            input_ids = batch[\"input_ids\"].to(device)\n",
    "            attention_mask = batch[\"attention_mask\"].to(device)\n",
    "            labels = batch[\"label\"].to(device)\n",
    "\n",
    "            outputs = model(input_ids=input_ids, attention_mask=attention_mask)\n",
    "            preds = torch.argmax(outputs.logits, dim=1)\n",
    "\n",
    "            all_preds.extend(preds.cpu().numpy())\n",
    "            all_labels.extend(labels.cpu().numpy())\n",
    "\n",
    "    acc = accuracy_score(all_labels, all_preds)\n",
    "    prec, rec, f1, _ = precision_recall_fscore_support(all_labels, all_preds, average=\"weighted\", zero_division=0)\n",
    "    report = classification_report(all_labels, all_preds, zero_division=0)\n",
    "\n",
    "    return acc, prec, rec, f1, report\n",
    "\n",
    "# 🔍 Evaluation auf Validation-Set\n",
    "acc, prec, rec, f1, report = evaluate(model, val_loader)\n",
    "print(\"📊 VALIDATION\")\n",
    "print(f\"Accuracy:  {acc:.2f} | Precision: {prec:.2f} | Recall: {rec:.2f} | F1: {f1:.2f}\")\n",
    "print(report)\n",
    "\n",
    "# 🧪 Evaluation auf Test-Set\n",
    "acc, prec, rec, f1, report = evaluate(model, test_loader)\n",
    "print(\"\\n📊 TEST\")\n",
    "print(f\"Accuracy:  {acc:.2f} | Precision: {prec:.2f} | Recall: {rec:.2f} | F1: {f1:.2f}\")\n",
    "print(report)\n"
   ]
  },
  {
   "cell_type": "markdown",
   "id": "9a2bb737",
   "metadata": {},
   "source": [
    "**Hinweis:**\n",
    "\n",
    "Um echte BERT-Inferenz zu nutzen, ersetze die Dummy-Vorhersage durch echten Code. Zum Beispiel:\n",
    "\n",
    "```python\n",
    "\n",
    "from transformers import BertTokenizerFast, BertForSequenceClassification\n",
    "\n",
    "# Modell laden\n",
    "\n",
    "tokenizer = BertTokenizerFast.from_pretrained(\"nlptown/bert-base-multilingual-uncased-sentiment\")\n",
    "\n",
    "model = BertForSequenceClassification.from_pretrained(\"nlptown/bert-base-multilingual-uncased-sentiment\")\n",
    "\n",
    "model.eval()\n",
    "\n",
    "# Inferenz-Schleife...\n",
    "\n",
    "```\n",
    "\n",
    "Alles Weitere bleibt unverändert, um Metriken zu berechnen.  \n"
   ]
  }
 ],
 "metadata": {
  "kernelspec": {
   "display_name": "venv",
   "language": "python",
   "name": "python3"
  },
  "language_info": {
   "codemirror_mode": {
    "name": "ipython",
    "version": 3
   },
   "file_extension": ".py",
   "mimetype": "text/x-python",
   "name": "python",
   "nbconvert_exporter": "python",
   "pygments_lexer": "ipython3",
   "version": "3.13.3"
  }
 },
 "nbformat": 4,
 "nbformat_minor": 5
}
