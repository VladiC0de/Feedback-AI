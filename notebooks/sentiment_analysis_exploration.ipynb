{
 "cells": [
  {
   "cell_type": "markdown",
   "metadata": {},
   "source": [
    "# Exploration der Sentiment-Analyse\n",
    "\n",
    "In diesem Notebook untersuchen wir verschiedene Modelle zur Sentiment-Analyse und evaluieren ihre Leistung auf unseren Kundenfeedback-Daten."
   ]
  },
  {
   "cell_type": "code",
   "execution_count": 1,
   "metadata": {},
   "outputs": [
    {
     "name": "stderr",
     "output_type": "stream",
     "text": [
      "c:\\Users\\User\\Desktop\\Feedback-AI\\venv\\Lib\\site-packages\\tqdm\\auto.py:21: TqdmWarning: IProgress not found. Please update jupyter and ipywidgets. See https://ipywidgets.readthedocs.io/en/stable/user_install.html\n",
      "  from .autonotebook import tqdm as notebook_tqdm\n"
     ]
    }
   ],
   "source": [
    "import pandas as pd\n",
    "import numpy as np\n",
    "import matplotlib.pyplot as plt\n",
    "import seaborn as sns\n",
    "from transformers import pipeline, AutoTokenizer, AutoModelForSequenceClassification\n",
    "from sklearn.metrics import accuracy_score, precision_recall_fscore_support, confusion_matrix\n",
    "\n",
    "# Plotting-Einstellungen\n",
    "plt.style.use('seaborn-v0_8-whitegrid')\n",
    "sns.set_palette('viridis')\n",
    "%matplotlib inline"
   ]
  },
  {
   "cell_type": "markdown",
   "metadata": {},
   "source": [
    "## 1. Daten laden\n",
    "\n",
    "Wir laden die Google-Reviews-Daten und bereiten sie für die Analyse vor."
   ]
  },
  {
   "cell_type": "code",
   "execution_count": 2,
   "metadata": {},
   "outputs": [
    {
     "name": "stdout",
     "output_type": "stream",
     "text": [
      "Anzahl der Reviews: 50\n"
     ]
    },
    {
     "data": {
      "text/html": [
       "<div>\n",
       "<style scoped>\n",
       "    .dataframe tbody tr th:only-of-type {\n",
       "        vertical-align: middle;\n",
       "    }\n",
       "\n",
       "    .dataframe tbody tr th {\n",
       "        vertical-align: top;\n",
       "    }\n",
       "\n",
       "    .dataframe thead th {\n",
       "        text-align: right;\n",
       "    }\n",
       "</style>\n",
       "<table border=\"1\" class=\"dataframe\">\n",
       "  <thead>\n",
       "    <tr style=\"text-align: right;\">\n",
       "      <th></th>\n",
       "      <th>text</th>\n",
       "      <th>rating</th>\n",
       "      <th>date</th>\n",
       "      <th>source</th>\n",
       "    </tr>\n",
       "  </thead>\n",
       "  <tbody>\n",
       "    <tr>\n",
       "      <th>0</th>\n",
       "      <td>Das Produkt ist fantastisch! Ich bin sehr zufr...</td>\n",
       "      <td>5</td>\n",
       "      <td>2025-01-15</td>\n",
       "      <td>Online-Shop</td>\n",
       "    </tr>\n",
       "    <tr>\n",
       "      <th>1</th>\n",
       "      <td>Gute Qualität, aber etwas teuer für das, was m...</td>\n",
       "      <td>4</td>\n",
       "      <td>2025-01-16</td>\n",
       "      <td>Online-Shop</td>\n",
       "    </tr>\n",
       "    <tr>\n",
       "      <th>2</th>\n",
       "      <td>Durchschnittliches Produkt, nichts Besonderes....</td>\n",
       "      <td>3</td>\n",
       "      <td>2025-01-17</td>\n",
       "      <td>Online-Shop</td>\n",
       "    </tr>\n",
       "    <tr>\n",
       "      <th>3</th>\n",
       "      <td>Leider bin ich nicht sehr zufrieden. Die Quali...</td>\n",
       "      <td>2</td>\n",
       "      <td>2025-01-18</td>\n",
       "      <td>Online-Shop</td>\n",
       "    </tr>\n",
       "    <tr>\n",
       "      <th>4</th>\n",
       "      <td>Absolut enttäuschend! Das Produkt kam beschädi...</td>\n",
       "      <td>1</td>\n",
       "      <td>2025-01-19</td>\n",
       "      <td>Online-Shop</td>\n",
       "    </tr>\n",
       "  </tbody>\n",
       "</table>\n",
       "</div>"
      ],
      "text/plain": [
       "                                                text  rating        date  \\\n",
       "0  Das Produkt ist fantastisch! Ich bin sehr zufr...       5  2025-01-15   \n",
       "1  Gute Qualität, aber etwas teuer für das, was m...       4  2025-01-16   \n",
       "2  Durchschnittliches Produkt, nichts Besonderes....       3  2025-01-17   \n",
       "3  Leider bin ich nicht sehr zufrieden. Die Quali...       2  2025-01-18   \n",
       "4  Absolut enttäuschend! Das Produkt kam beschädi...       1  2025-01-19   \n",
       "\n",
       "        source  \n",
       "0  Online-Shop  \n",
       "1  Online-Shop  \n",
       "2  Online-Shop  \n",
       "3  Online-Shop  \n",
       "4  Online-Shop  "
      ]
     },
     "execution_count": 2,
     "metadata": {},
     "output_type": "execute_result"
    }
   ],
   "source": [
    "# Daten laden\n",
    "try:\n",
    "    df = pd.read_csv('../data/customer_reviews.csv', encoding='utf-8')\n",
    "except UnicodeDecodeError:\n",
    "    df = pd.read_csv('../data/customer_reviews.csv', encoding='latin-1')\n",
    "\n",
    "# Daten anzeigen\n",
    "print(f\"Anzahl der Reviews: {len(df)}\")\n",
    "df.head()"
   ]
  },
  {
   "cell_type": "markdown",
   "metadata": {},
   "source": [
    "## 2. Datenexploration\n",
    "\n",
    "Wir untersuchen die Verteilung der Bewertungen und die Textlänge."
   ]
  },
  {
   "cell_type": "code",
   "execution_count": 3,
   "metadata": {},
   "outputs": [
    {
     "data": {
      "image/png": "[encoded data removed]",
      "text/plain": [
       "<Figure size 1000x600 with 1 Axes>"
      ]
     },
     "metadata": {},
     "output_type": "display_data"
    },
    {
     "data": {
      "text/plain": [
       "count     50.000000\n",
       "mean     115.600000\n",
       "std       13.410322\n",
       "min       94.000000\n",
       "25%      105.000000\n",
       "50%      118.000000\n",
       "75%      127.000000\n",
       "max      139.000000\n",
       "Name: text_length, dtype: float64"
      ]
     },
     "execution_count": 3,
     "metadata": {},
     "output_type": "execute_result"
    }
   ],
   "source": [
    "# Textlänge berechnen\n",
    "df['text_length'] = df['text'].astype(str).apply(len)\n",
    "\n",
    "# Verteilung der Textlänge\n",
    "plt.figure(figsize=(10, 6))\n",
    "sns.histplot(df['text_length'], bins=30)\n",
    "plt.title('Verteilung der Textlänge')\n",
    "plt.xlabel('Anzahl der Zeichen')\n",
    "plt.ylabel('Anzahl der Reviews')\n",
    "plt.show()\n",
    "\n",
    "# Statistiken zur Textlänge\n",
    "df['text_length'].describe()"
   ]
  },
  {
   "cell_type": "markdown",
   "metadata": {},
   "source": [
    "## 3. Sentiment-Modell laden\n",
    "\n",
    "Wir laden das vortrainierte BERT-Modell für die Sentiment-Analyse."
   ]
  },
  {
   "cell_type": "code",
   "execution_count": 4,
   "metadata": {},
   "outputs": [
    {
     "name": "stderr",
     "output_type": "stream",
     "text": [
      "c:\\Users\\User\\Desktop\\Feedback-AI\\venv\\Lib\\site-packages\\huggingface_hub\\file_download.py:943: FutureWarning: `resume_download` is deprecated and will be removed in version 1.0.0. Downloads always resume when possible. If you want to force a new download, use `force_download=True`.\n",
      "  warnings.warn(\n"
     ]
    }
   ],
   "source": [
    "# Modell laden\n",
    "model_name = \"nlptown/bert-base-multilingual-uncased-sentiment\"\n",
    "tokenizer = AutoTokenizer.from_pretrained(model_name, use_fast=True)\n",
    "model = AutoModelForSequenceClassification.from_pretrained(model_name)\n",
    "sentiment_pipe = pipeline(\n",
    "    \"sentiment-analysis\",\n",
    "    model=model,\n",
    "    tokenizer=tokenizer,\n",
    "    device=-1  # CPU verwenden\n",
    ")"
   ]
  },
  {
   "cell_type": "markdown",
   "metadata": {},
   "source": [
    "## 4. Chunking-Funktion für lange Texte\n",
    "\n",
    "Da BERT eine maximale Eingabelänge hat, implementieren wir eine Chunking-Funktion."
   ]
  },
  {
   "cell_type": "code",
   "execution_count": 5,
   "metadata": {},
   "outputs": [],
   "source": [
    "def sentiment_chunked(text):\n",
    "    \"\"\"Sentiment-Analyse mit Chunking für lange Texte\"\"\"\n",
    "    enc = tokenizer(text, return_tensors=\"pt\", truncation=False)\n",
    "    ids = enc[\"input_ids\"][0]\n",
    "    chunks = [ids[i : i + 512] for i in range(0, len(ids), 512)]\n",
    "    results = []\n",
    "    \n",
    "    for c in chunks:\n",
    "        txt = tokenizer.decode(c, skip_special_tokens=True)\n",
    "        r = sentiment_pipe(txt, truncation=True, max_length=512, padding=True)[0]\n",
    "        results.append(r)\n",
    "    \n",
    "    labels = [r[\"label\"] for r in results]\n",
    "    maj = max(set(labels), key=labels.count)\n",
    "    avg = sum(r[\"score\"] for r in results) / len(results)\n",
    "    \n",
    "    return {\"label\": maj, \"score\": avg}"
   ]
  },
  {
   "cell_type": "markdown",
   "metadata": {},
   "source": [
    "## 5. Sentiment-Analyse durchführen\n",
    "\n",
    "Wir wenden die Sentiment-Analyse auf unsere Daten an."
   ]
  },
  {
   "cell_type": "code",
   "execution_count": 6,
   "metadata": {},
   "outputs": [
    {
     "data": {
      "text/html": [
       "<div>\n",
       "<style scoped>\n",
       "    .dataframe tbody tr th:only-of-type {\n",
       "        vertical-align: middle;\n",
       "    }\n",
       "\n",
       "    .dataframe tbody tr th {\n",
       "        vertical-align: top;\n",
       "    }\n",
       "\n",
       "    .dataframe thead th {\n",
       "        text-align: right;\n",
       "    }\n",
       "</style>\n",
       "<table border=\"1\" class=\"dataframe\">\n",
       "  <thead>\n",
       "    <tr style=\"text-align: right;\">\n",
       "      <th></th>\n",
       "      <th>text</th>\n",
       "      <th>sentiment_label</th>\n",
       "      <th>sentiment_score</th>\n",
       "    </tr>\n",
       "  </thead>\n",
       "  <tbody>\n",
       "    <tr>\n",
       "      <th>13</th>\n",
       "      <td>Leider bin ich nicht sehr zufrieden. Die Quali...</td>\n",
       "      <td>2 stars</td>\n",
       "      <td>0.627656</td>\n",
       "    </tr>\n",
       "    <tr>\n",
       "      <th>39</th>\n",
       "      <td>Leider hat das Produkt nicht lange gehalten. N...</td>\n",
       "      <td>1 star</td>\n",
       "      <td>0.789969</td>\n",
       "    </tr>\n",
       "    <tr>\n",
       "      <th>30</th>\n",
       "      <td>Das Produkt ist fantastisch! Ich bin sehr zufr...</td>\n",
       "      <td>5 stars</td>\n",
       "      <td>0.918587</td>\n",
       "    </tr>\n",
       "    <tr>\n",
       "      <th>45</th>\n",
       "      <td>Sehr schnelle Lieferung und das Produkt entspr...</td>\n",
       "      <td>5 stars</td>\n",
       "      <td>0.851902</td>\n",
       "    </tr>\n",
       "    <tr>\n",
       "      <th>17</th>\n",
       "      <td>Mittelmäßige Erfahrung. Das Produkt ist in Ord...</td>\n",
       "      <td>3 stars</td>\n",
       "      <td>0.796031</td>\n",
       "    </tr>\n",
       "  </tbody>\n",
       "</table>\n",
       "</div>"
      ],
      "text/plain": [
       "                                                 text sentiment_label  \\\n",
       "13  Leider bin ich nicht sehr zufrieden. Die Quali...         2 stars   \n",
       "39  Leider hat das Produkt nicht lange gehalten. N...          1 star   \n",
       "30  Das Produkt ist fantastisch! Ich bin sehr zufr...         5 stars   \n",
       "45  Sehr schnelle Lieferung und das Produkt entspr...         5 stars   \n",
       "17  Mittelmäßige Erfahrung. Das Produkt ist in Ord...         3 stars   \n",
       "\n",
       "    sentiment_score  \n",
       "13         0.627656  \n",
       "39         0.789969  \n",
       "30         0.918587  \n",
       "45         0.851902  \n",
       "17         0.796031  "
      ]
     },
     "execution_count": 6,
     "metadata": {},
     "output_type": "execute_result"
    }
   ],
   "source": [
    "# Sentiment-Analyse für eine Stichprobe\n",
    "sample_size = min(50, len(df))\n",
    "sample_df = df.sample(sample_size, random_state=42)\n",
    "\n",
    "# Sentiment-Analyse durchführen\n",
    "results = []\n",
    "for text in sample_df['text'].astype(str):\n",
    "    result = sentiment_chunked(text)\n",
    "    results.append(result)\n",
    "\n",
    "# Ergebnisse zum DataFrame hinzufügen\n",
    "sample_df['sentiment_label'] = [r['label'] for r in results]\n",
    "sample_df['sentiment_score'] = [r['score'] for r in results]\n",
    "\n",
    "# Ergebnisse anzeigen\n",
    "sample_df[['text', 'sentiment_label', 'sentiment_score']].head()"
   ]
  },
  {
   "cell_type": "markdown",
   "metadata": {},
   "source": [
    "## 6. Evaluierung der Sentiment-Analyse\n",
    "\n",
    "Wir evaluieren die Leistung des Modells anhand von manuell bewerteten Beispielen."
   ]
  },
  {
   "cell_type": "code",
   "execution_count": 7,
   "metadata": {},
   "outputs": [
    {
     "data": {
      "text/html": [
       "<div>\n",
       "<style scoped>\n",
       "    .dataframe tbody tr th:only-of-type {\n",
       "        vertical-align: middle;\n",
       "    }\n",
       "\n",
       "    .dataframe tbody tr th {\n",
       "        vertical-align: top;\n",
       "    }\n",
       "\n",
       "    .dataframe thead th {\n",
       "        text-align: right;\n",
       "    }\n",
       "</style>\n",
       "<table border=\"1\" class=\"dataframe\">\n",
       "  <thead>\n",
       "    <tr style=\"text-align: right;\">\n",
       "      <th></th>\n",
       "      <th>text</th>\n",
       "      <th>expected</th>\n",
       "      <th>predicted</th>\n",
       "      <th>score</th>\n",
       "    </tr>\n",
       "  </thead>\n",
       "  <tbody>\n",
       "    <tr>\n",
       "      <th>0</th>\n",
       "      <td>Das Produkt ist fantastisch! Ich bin sehr zufr...</td>\n",
       "      <td>5 stars</td>\n",
       "      <td>5 stars</td>\n",
       "      <td>0.902854</td>\n",
       "    </tr>\n",
       "    <tr>\n",
       "      <th>1</th>\n",
       "      <td>Gutes Produkt, aber etwas teuer.</td>\n",
       "      <td>4 stars</td>\n",
       "      <td>4 stars</td>\n",
       "      <td>0.712482</td>\n",
       "    </tr>\n",
       "    <tr>\n",
       "      <th>2</th>\n",
       "      <td>Durchschnittliche Qualität, erfüllt seinen Zweck.</td>\n",
       "      <td>3 stars</td>\n",
       "      <td>3 stars</td>\n",
       "      <td>0.716067</td>\n",
       "    </tr>\n",
       "    <tr>\n",
       "      <th>3</th>\n",
       "      <td>Nicht besonders beeindruckt, hatte mehr erwartet.</td>\n",
       "      <td>2 stars</td>\n",
       "      <td>2 stars</td>\n",
       "      <td>0.496955</td>\n",
       "    </tr>\n",
       "    <tr>\n",
       "      <th>4</th>\n",
       "      <td>Schreckliches Produkt, funktioniert überhaupt ...</td>\n",
       "      <td>1 stars</td>\n",
       "      <td>1 star</td>\n",
       "      <td>0.981575</td>\n",
       "    </tr>\n",
       "    <tr>\n",
       "      <th>5</th>\n",
       "      <td>Die Lieferung war schnell, aber das Produkt ha...</td>\n",
       "      <td>3 stars</td>\n",
       "      <td>3 stars</td>\n",
       "      <td>0.424469</td>\n",
       "    </tr>\n",
       "    <tr>\n",
       "      <th>6</th>\n",
       "      <td>Sehr gute Qualität und schneller Service.</td>\n",
       "      <td>5 stars</td>\n",
       "      <td>5 stars</td>\n",
       "      <td>0.875362</td>\n",
       "    </tr>\n",
       "    <tr>\n",
       "      <th>7</th>\n",
       "      <td>Enttäuschend, würde nicht wieder kaufen.</td>\n",
       "      <td>2 stars</td>\n",
       "      <td>1 star</td>\n",
       "      <td>0.654395</td>\n",
       "    </tr>\n",
       "    <tr>\n",
       "      <th>8</th>\n",
       "      <td>Mittelmäßig, nichts Besonderes.</td>\n",
       "      <td>3 stars</td>\n",
       "      <td>3 stars</td>\n",
       "      <td>0.766651</td>\n",
       "    </tr>\n",
       "    <tr>\n",
       "      <th>9</th>\n",
       "      <td>Absolut begeistert von diesem Produkt!</td>\n",
       "      <td>5 stars</td>\n",
       "      <td>5 stars</td>\n",
       "      <td>0.940655</td>\n",
       "    </tr>\n",
       "  </tbody>\n",
       "</table>\n",
       "</div>"
      ],
      "text/plain": [
       "                                                text expected predicted  \\\n",
       "0  Das Produkt ist fantastisch! Ich bin sehr zufr...  5 stars   5 stars   \n",
       "1                   Gutes Produkt, aber etwas teuer.  4 stars   4 stars   \n",
       "2  Durchschnittliche Qualität, erfüllt seinen Zweck.  3 stars   3 stars   \n",
       "3  Nicht besonders beeindruckt, hatte mehr erwartet.  2 stars   2 stars   \n",
       "4  Schreckliches Produkt, funktioniert überhaupt ...  1 stars    1 star   \n",
       "5  Die Lieferung war schnell, aber das Produkt ha...  3 stars   3 stars   \n",
       "6          Sehr gute Qualität und schneller Service.  5 stars   5 stars   \n",
       "7           Enttäuschend, würde nicht wieder kaufen.  2 stars    1 star   \n",
       "8                    Mittelmäßig, nichts Besonderes.  3 stars   3 stars   \n",
       "9             Absolut begeistert von diesem Produkt!  5 stars   5 stars   \n",
       "\n",
       "      score  \n",
       "0  0.902854  \n",
       "1  0.712482  \n",
       "2  0.716067  \n",
       "3  0.496955  \n",
       "4  0.981575  \n",
       "5  0.424469  \n",
       "6  0.875362  \n",
       "7  0.654395  \n",
       "8  0.766651  \n",
       "9  0.940655  "
      ]
     },
     "execution_count": 7,
     "metadata": {},
     "output_type": "execute_result"
    }
   ],
   "source": [
    "# Beispiel-Testdaten mit manuellen Labels\n",
    "test_data = [\n",
    "    {\"text\": \"Das Produkt ist fantastisch! Ich bin sehr zufrieden.\", \"expected\": \"5 stars\"},\n",
    "    {\"text\": \"Gutes Produkt, aber etwas teuer.\", \"expected\": \"4 stars\"},\n",
    "    {\"text\": \"Durchschnittliche Qualität, erfüllt seinen Zweck.\", \"expected\": \"3 stars\"},\n",
    "    {\"text\": \"Nicht besonders beeindruckt, hatte mehr erwartet.\", \"expected\": \"2 stars\"},\n",
    "    {\"text\": \"Schreckliches Produkt, funktioniert überhaupt nicht!\", \"expected\": \"1 stars\"},\n",
    "    {\"text\": \"Die Lieferung war schnell, aber das Produkt hat Mängel.\", \"expected\": \"3 stars\"},\n",
    "    {\"text\": \"Sehr gute Qualität und schneller Service.\", \"expected\": \"5 stars\"},\n",
    "    {\"text\": \"Enttäuschend, würde nicht wieder kaufen.\", \"expected\": \"2 stars\"},\n",
    "    {\"text\": \"Mittelmäßig, nichts Besonderes.\", \"expected\": \"3 stars\"},\n",
    "    {\"text\": \"Absolut begeistert von diesem Produkt!\", \"expected\": \"5 stars\"}\n",
    "]\n",
    "\n",
    "# Sentiment-Analyse für Testdaten\n",
    "for item in test_data:\n",
    "    result = sentiment_chunked(item[\"text\"])\n",
    "    item[\"predicted\"] = result[\"label\"]\n",
    "    item[\"score\"] = result[\"score\"]\n",
    "\n",
    "# Ergebnisse als DataFrame\n",
    "test_df = pd.DataFrame(test_data)\n",
    "test_df"
   ]
  },
  {
   "cell_type": "code",
   "execution_count": 8,
   "metadata": {},
   "outputs": [
    {
     "name": "stdout",
     "output_type": "stream",
     "text": [
      "Accuracy: 0.80\n",
      "Precision: 0.90\n",
      "Recall: 0.80\n",
      "F1-Score: 0.83\n"
     ]
    },
    {
     "name": "stderr",
     "output_type": "stream",
     "text": [
      "c:\\Users\\User\\Desktop\\Feedback-AI\\venv\\Lib\\site-packages\\sklearn\\metrics\\_classification.py:1471: UndefinedMetricWarning: Precision and F-score are ill-defined and being set to 0.0 in labels with no predicted samples. Use `zero_division` parameter to control this behavior.\n",
      "  _warn_prf(average, modifier, msg_start, len(result))\n",
      "c:\\Users\\User\\Desktop\\Feedback-AI\\venv\\Lib\\site-packages\\sklearn\\metrics\\_classification.py:1471: UndefinedMetricWarning: Recall and F-score are ill-defined and being set to 0.0 in labels with no true samples. Use `zero_division` parameter to control this behavior.\n",
      "  _warn_prf(average, modifier, msg_start, len(result))\n"
     ]
    },
    {
     "data": {
      "image/png": "[encoded data removed]",
      "text/plain": [
       "<Figure size 1000x800 with 2 Axes>"
      ]
     },
     "metadata": {},
     "output_type": "display_data"
    }
   ],
   "source": [
    "# Metriken berechnen\n",
    "y_true = test_df['expected']\n",
    "y_pred = test_df['predicted']\n",
    "\n",
    "accuracy = accuracy_score(y_true, y_pred)\n",
    "precision, recall, f1, _ = precision_recall_fscore_support(y_true, y_pred, average='weighted')\n",
    "\n",
    "print(f\"Accuracy: {accuracy:.2f}\")\n",
    "print(f\"Precision: {precision:.2f}\")\n",
    "print(f\"Recall: {recall:.2f}\")\n",
    "print(f\"F1-Score: {f1:.2f}\")\n",
    "\n",
    "# Confusion Matrix\n",
    "cm = confusion_matrix(y_true, y_pred, labels=sorted(set(y_true)))\n",
    "plt.figure(figsize=(10, 8))\n",
    "sns.heatmap(cm, annot=True, fmt='d', cmap='Blues', \n",
    "            xticklabels=sorted(set(y_true)), \n",
    "            yticklabels=sorted(set(y_true)))\n",
    "plt.xlabel('Vorhergesagt')\n",
    "plt.ylabel('Tatsächlich')\n",
    "plt.title('Confusion Matrix')\n",
    "plt.show()"
   ]
  },
  {
   "cell_type": "markdown",
   "metadata": {},
   "source": [
    "## 7. Fazit\n",
    "\n",
    "Das BERT-Modell `nlptown/bert-base-multilingual-uncased-sentiment` zeigt gute Ergebnisse bei der Sentiment-Analyse von Kundenfeedback. Die Accuracy liegt bei etwa 80%, was für unseren Anwendungsfall ausreichend ist. Die Implementierung mit Chunking ermöglicht die Verarbeitung längerer Texte, was für Kundenfeedback wichtig ist.\n",
    "\n",
    "Verbesserungspotenzial:\n",
    "- Fine-Tuning des Modells mit domänenspezifischen Daten\n",
    "- Optimierung der Chunking-Strategie\n",
    "- Berücksichtigung von Kontext und Satzstruktur"
   ]
  }
 ],
 "metadata": {
  "kernelspec": {
   "display_name": "venv",
   "language": "python",
   "name": "python3"
  },
  "language_info": {
   "codemirror_mode": {
    "name": "ipython",
    "version": 3
   },
   "file_extension": ".py",
   "mimetype": "text/x-python",
   "name": "python",
   "nbconvert_exporter": "python",
   "pygments_lexer": "ipython3",
   "version": "3.11.0"
  }
 },
 "nbformat": 4,
 "nbformat_minor": 4
}
